{
 "cells": [
  {
   "cell_type": "markdown",
   "id": "99f54c5a-db4b-48ae-b873-bc32ce5f0e9a",
   "metadata": {},
   "source": [
    "# GROUP CONTRACT "
   ]
  },
  {
   "cell_type": "markdown",
   "id": "0fac2c95-b643-4719-b4a6-056a801d1107",
   "metadata": {},
   "source": [
    "A group contract is a document to help you formalize the expectations you have for your group members and what they can expect of you. It will help you think about what you need from each other to work effectively as a team! You will create and agree on this contract as a team. Each member should “sign” (you can just type out your name) at the bottom of the submission. At a minimum, your group contract must address the following:"
   ]
  },
  {
   "cell_type": "markdown",
   "id": "8708cc26-3643-4ef4-9c12-d25d0f27a2dd",
   "metadata": {},
   "source": [
    "### Goals "
   ]
  },
  {
   "cell_type": "markdown",
   "id": "5bf6123e-5fe5-465d-b161-da69d3ac2e1b",
   "metadata": {},
   "source": [
    "**1. What are our team goals for this project?**\n",
    "\n",
    "Our goal is to complete a comprehensive data science project focusing on statistical inference. We want to apply the theories and knowledge learnt in class to a hands-on project to gain practical experience in working with data.\n",
    "\n",
    "**2. What do we want to accomplish?**\n",
    "\n",
    "Our group aims to uncover meaningful insights from the chosen dataset and answer our inferential question.\n",
    "We hope to accomplish our vision for our final project by utilizing the skills we have learned in statistics to the best of our ability.\n",
    "\n",
    "**3. What skills do we want to develop or refine?**\n",
    "\n",
    "We want to improve our data analysis abilities, as well as our communication, punctuation and collaboration skills.\n"
   ]
  },
  {
   "cell_type": "markdown",
   "id": "faa02fb3-07f1-497f-b8e0-ecb88bfe1956",
   "metadata": {},
   "source": [
    "### Expectations "
   ]
  },
  {
   "cell_type": "markdown",
   "id": "f83ea087-dbee-41bf-b234-edc8d7af1be7",
   "metadata": {},
   "source": [
    "**What do we expect of one another regarding attendance at meetings, participation, frequency of communication, quality of work, etc.? What are our internal deadlines? (Warning: if working on separate parts, do not aim to put all the parts together on the last day – it takes time to integrate multiple parts.)**\n",
    "\n",
    "\n",
    "1. All members actively participate in discussions and contribute to the project.\n",
    "2. Be respectful to each other and other group members’ ideas.\n",
    "3. Completing agreed-upon work to the best of the member’s reasonable ability.\n"
   ]
  },
  {
   "cell_type": "markdown",
   "id": "988dee30-2a5e-42d9-82f2-f9e52a361e2a",
   "metadata": {},
   "source": [
    "### Policies & Procedures"
   ]
  },
  {
   "cell_type": "markdown",
   "id": "d9f1f5bb-6e86-4063-927c-b7c95fe6492f",
   "metadata": {},
   "source": [
    "**What rules can we agree on to help us meet our goals and expectations?**\n",
    "\n",
    "1. Tasks will be divided equitably.\n",
    "2. Resolving conflicts in a respectful manner and seeking a consensus.\n",
    "3. Regularly update the team on progress.\n"
   ]
  },
  {
   "cell_type": "markdown",
   "id": "11511206-0a92-46db-a711-f9692fe0bea1",
   "metadata": {},
   "source": [
    "### Consequences"
   ]
  },
  {
   "cell_type": "markdown",
   "id": "f1d04a0a-7a76-4fe5-b9ab-ea0e6561f660",
   "metadata": {},
   "source": [
    "**How will we address non-performance regarding these goals, expectations, policies and procedures?**\n",
    "\n",
    "1. Members not meeting expectations will discuss the matter with the team.\n",
    "2. Late submissions will be addressed with the team.\n"
   ]
  },
  {
   "cell_type": "markdown",
   "id": "767895f0-bb0a-40ef-94cf-71b39c983a77",
   "metadata": {},
   "source": [
    "### Members’ Signatures"
   ]
  },
  {
   "cell_type": "markdown",
   "id": "a1a8f0da-6727-4339-8685-d4facc870725",
   "metadata": {},
   "source": [
    "Tim Zeng\n",
    "\n",
    "Zihua Li\n",
    "\n",
    "Alex Pan Wang\n",
    "\n",
    "Kaylan Wallace\n"
   ]
  }
 ],
 "metadata": {
  "kernelspec": {
   "display_name": "R",
   "language": "R",
   "name": "ir"
  },
  "language_info": {
   "codemirror_mode": "r",
   "file_extension": ".r",
   "mimetype": "text/x-r-source",
   "name": "R",
   "pygments_lexer": "r",
   "version": "4.2.3"
  }
 },
 "nbformat": 4,
 "nbformat_minor": 5
}
