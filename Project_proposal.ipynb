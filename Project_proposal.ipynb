{
 "cells": [
  {
   "cell_type": "markdown",
   "id": "8e121be9-dcbd-44b8-9972-688744fe5958",
   "metadata": {},
   "source": [
    "## Deliverable 2: Project Proposal\n"
   ]
  },
  {
   "cell_type": "markdown",
   "id": "d5fe9219-6f21-4d50-a2e5-19c66ad93d83",
   "metadata": {
    "tags": []
   },
   "source": [
    "### GENERAL INSTRUCTIONS:\n",
    "- Written proposal within 500 words (about 1 page)   \n",
    "- Identify the dataset they plan to work on  \n",
    "- Identify the question they would like to answer using that dataset  \n",
    "- Only one member of your team needs to submit. You must submit two files:\n",
    "    - the source Jupyter notebook (.ipynb file)\n",
    "    - the rendered final document (.html file)\n",
    " \n",
    "### Introduction\n",
    "\n",
    "1. Provide some relevant background information on the topic so that someone unfamiliar with it will be prepared to understand the rest of your proposal.\n",
    "2. Clearly state the question you will try to answer with your project. \n",
    "    - Your question should involve one or more random variables of interest, spread across two or more categories that are interesting to compare. \n",
    "    - For example, you could consider the annual maxima river flow at two different locations along a river, or perhaps gender diversity at different universities. \n",
    "3. Of the response variables, identify one location parameter (mean, median, quantile, etc.) that would be useful in answering your question. \n",
    "4. Identify one scale parameter (standard deviation, inter-quartile range, etc.) that would be useful in answering your question. \n",
    "5. Justify your choices.\n",
    "\n",
    "UPDATE (Mar 1, 2022): If it doesn’t make sense to infer a scale parameter, you can choose another parameter, or choose a second variable altogether. Ultimately, we’re looking for a comprehensive inference analysis on one parameter spread across 2+ groups (with at least one hypothesis test), plus a bit more (such as an investigation on the variance, a quantile, or a different variable). In total, you should use both bootstrapping and asymptotics somewhere in your report at least once each. Also, your hypothesis test(s) need not be significant: it is perfectly fine to write a report claiming no significant findings (i.e. your p-value is large).\n",
    "\n",
    "Identify and describe the dataset that will be used to answer the question. Remember, this dataset is allowed to contain more variables than you need – feel free to drop them!\n",
    "\n",
    "Also, be sure to frame your question/objectives in terms of what is already known in the literature. Be sure to include at least two scientific publications that can help frame your study (you will need to include these in the References section). We have no specific citation style requirements, but be consistent.\n",
    "\n",
    "### Preliminary Results\n",
    "\n",
    "1. Demonstrate that the dataset can be read from the web into R.\n",
    "2. Clean and wrangle your data into a tidy format.\n",
    "3. Plot the relevant raw data, tailoring your plot in a way that addresses your question.\n",
    "4. Compute estimates of the parameter you identified across your groups. \n",
    "5. Present this in a table. If relevant, include these estimates in your plot.\n",
    "\n",
    "#### Notes:\n",
    "Be sure to not print output that takes up a lot of screen space.\n",
    "\n",
    "### Methods: Plan\n",
    "\n",
    "1. Brief description of “the good things” about this report – specifically, in what ways is this report trustworthy?\n",
    "2. Continue by explaining why the plot(s) and estimates that you produced are not enough to give to a stakeholder, and what you should provide in addition to address this gap. \n",
    "3. Make sure your plans include at least one hypothesis test and one confidence interval. If possible, compare both the bootstrapping and asymptotics methods.\n",
    "4. Finish this section by reflecting on how your final report might play out:\n",
    "    - What do you expect to find?\n",
    "    - What impact could such findings have?\n",
    "    - What future questions could this lead to?\n",
    "\n",
    "### References\n",
    "\n",
    "- At least two citations of literature relevant to the project. \n",
    "- The citation format is your choice – just be consistent. \n",
    "- Make sure to cite the source of your data as well.\n",
    "\n",
    "assigned to review a different group’s proposal. This allows your group to collectively see a larger variety of proposals.)\n",
    "\n",
    "submit that to canvas. There is no page limit. The teaching team will deliver the feedback to your reviewee.)\n",
    "\n",
    "communicated effectively. When possible, provide suggestions for improvement. If everything looks good to you, say why it looks good.) comment: <> (- What part of the proposal is the most effective, and why?) comment: <> (- What part of the proposal is the least effective, and why? Provide a suggestion for improvement.) comment: <> (- Provide feedback on English, spelling, and grammar, if applicable.)\n",
    "\n",
    "the composition of your submission, reasoning (70%) evaluates your feedback, and writing (20%) evaluates your English, spelling, and grammar.)\n",
    "\n"
   ]
  },
  {
   "cell_type": "code",
   "execution_count": null,
   "id": "d6e513b1-b331-44b3-b0c2-c6eaf832667f",
   "metadata": {},
   "outputs": [],
   "source": []
  }
 ],
 "metadata": {
  "kernelspec": {
   "display_name": "R",
   "language": "R",
   "name": "ir"
  },
  "language_info": {
   "codemirror_mode": "r",
   "file_extension": ".r",
   "mimetype": "text/x-r-source",
   "name": "R",
   "pygments_lexer": "r",
   "version": "4.2.3"
  }
 },
 "nbformat": 4,
 "nbformat_minor": 5
}
